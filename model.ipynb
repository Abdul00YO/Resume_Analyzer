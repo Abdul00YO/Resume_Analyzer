{
  "cells": [
    {
      "cell_type": "markdown",
      "metadata": {
        "id": "5DW7-DlV_Qg8"
      },
      "source": [
        "# Checking Data"
      ]
    },
    {
      "cell_type": "code",
      "execution_count": 1,
      "metadata": {
        "colab": {
          "base_uri": "https://localhost:8080/"
        },
        "id": "yqdKbQVIvGb5",
        "outputId": "5a4952a7-959c-4a1e-cb07-3bd937820cb3"
      },
      "outputs": [
        {
          "name": "stdout",
          "output_type": "stream",
          "text": [
            "Requirement already satisfied: pandas in d:\\ai resume analyzer\\myenv\\lib\\site-packages (2.2.3)\n",
            "Requirement already satisfied: numpy>=1.26.0 in d:\\ai resume analyzer\\myenv\\lib\\site-packages (from pandas) (2.2.5)\n",
            "Requirement already satisfied: python-dateutil>=2.8.2 in d:\\ai resume analyzer\\myenv\\lib\\site-packages (from pandas) (2.9.0.post0)\n",
            "Requirement already satisfied: pytz>=2020.1 in d:\\ai resume analyzer\\myenv\\lib\\site-packages (from pandas) (2025.2)\n",
            "Requirement already satisfied: tzdata>=2022.7 in d:\\ai resume analyzer\\myenv\\lib\\site-packages (from pandas) (2025.2)\n",
            "Requirement already satisfied: six>=1.5 in d:\\ai resume analyzer\\myenv\\lib\\site-packages (from python-dateutil>=2.8.2->pandas) (1.17.0)\n",
            "Note: you may need to restart the kernel to use updated packages.\n"
          ]
        },
        {
          "name": "stderr",
          "output_type": "stream",
          "text": [
            "\n",
            "[notice] A new release of pip is available: 24.2 -> 25.1.1\n",
            "[notice] To update, run: python.exe -m pip install --upgrade pip\n"
          ]
        }
      ],
      "source": [
        "%pip install pandas"
      ]
    },
    {
      "cell_type": "code",
      "execution_count": 2,
      "metadata": {
        "id": "ZP7YS_0hv1oJ"
      },
      "outputs": [],
      "source": [
        "import pandas as pd"
      ]
    },
    {
      "cell_type": "code",
      "execution_count": 3,
      "metadata": {
        "id": "m-8xgOnmv_c2"
      },
      "outputs": [
        {
          "name": "stderr",
          "output_type": "stream",
          "text": [
            "<>:1: SyntaxWarning: invalid escape sequence '\\C'\n",
            "<>:1: SyntaxWarning: invalid escape sequence '\\C'\n",
            "C:\\Users\\Ruhma\\AppData\\Local\\Temp\\ipykernel_14184\\89687517.py:1: SyntaxWarning: invalid escape sequence '\\C'\n",
            "  resume_df=pd.read_csv('B:\\Code\\Python\\AI lab\\AI resume analyzer\\dataset\\Resume\\Resume.csv')\n"
          ]
        }
      ],
      "source": [
        "resume_df=pd.read_csv('B:\\Code\\Python\\AI lab\\AI resume analyzer\\dataset\\Resume\\Resume.csv')"
      ]
    },
    {
      "cell_type": "code",
      "execution_count": 4,
      "metadata": {
        "colab": {
          "base_uri": "https://localhost:8080/"
        },
        "id": "Dg6HFUvRwf6-",
        "outputId": "635d4de3-f446-4771-8cf7-a4b822ddec74"
      },
      "outputs": [
        {
          "data": {
            "text/plain": [
              "Index(['ID', 'Resume_str', 'Resume_html', 'Category'], dtype='object')"
            ]
          },
          "execution_count": 4,
          "metadata": {},
          "output_type": "execute_result"
        }
      ],
      "source": [
        "resume_df.columns"
      ]
    },
    {
      "cell_type": "markdown",
      "metadata": {
        "id": "aOw0E36lAJnO"
      },
      "source": [
        "# Data Cleaning"
      ]
    },
    {
      "cell_type": "code",
      "execution_count": null,
      "metadata": {
        "id": "neIwYqPEw745"
      },
      "outputs": [
        {
          "name": "stderr",
          "output_type": "stream",
          "text": [
            "<>:4: SyntaxWarning: invalid escape sequence '\\C'\n",
            "<>:19: SyntaxWarning: invalid escape sequence '\\C'\n",
            "<>:4: SyntaxWarning: invalid escape sequence '\\C'\n",
            "<>:19: SyntaxWarning: invalid escape sequence '\\C'\n",
            "C:\\Users\\Ruhma\\AppData\\Local\\Temp\\ipykernel_14184\\4236582406.py:4: SyntaxWarning: invalid escape sequence '\\C'\n",
            "  df = pd.read_csv(\"B:\\Code\\Python\\AI lab\\AI resume analyzer\\dataset\\Resume\\Resume.csv\")\n",
            "C:\\Users\\Ruhma\\AppData\\Local\\Temp\\ipykernel_14184\\4236582406.py:19: SyntaxWarning: invalid escape sequence '\\C'\n",
            "  df[['ID', 'Cleaned_Resume', 'Category']].to_csv(\"B:\\Code\\Python\\AI lab\\AI resume analyzer\\dataset\\Resume\\Cleaned_Resume_Data.csv\", index=False)\n"
          ]
        }
      ],
      "source": [
        "\n",
        "import re\n",
        "\n",
        "# Load the dataset\n",
        "df = pd.read_csv(\"D:\\AI resume analyzer\\dataset\\Resume\\Resume.csv\")\n",
        "\n",
        "# Clean resume text\n",
        "def clean_text(text):\n",
        "    text = re.sub(r'\\\\[ntr]', ' ', text)  # remove escape sequences\n",
        "    text = re.sub(r'\\s+', ' ', text)  # normalize whitespace\n",
        "    return text.strip()\n",
        "\n",
        "# Apply cleaning\n",
        "df['Cleaned_Resume'] = df['Resume_str'].apply(clean_text)\n",
        "\n",
        "# Normalize categories\n",
        "df['Category'] = df['Category'].str.strip().str.title()\n",
        "\n",
        "# Optionally save the cleaned data\n",
        "df[['ID', 'Cleaned_Resume', 'Category']].to_csv(\"D:\\AI resume analyzer\\dataset\\Resume\\Cleaned_Resume_Data.csv\", index=False)"
      ]
    },
    {
      "cell_type": "code",
      "execution_count": null,
      "metadata": {
        "colab": {
          "base_uri": "https://localhost:8080/",
          "height": 510
        },
        "id": "Pycna4I4xXXx",
        "outputId": "d82f7c21-d904-40b7-a47a-b60ceef34175"
      },
      "outputs": [
        {
          "name": "stderr",
          "output_type": "stream",
          "text": [
            "<>:1: SyntaxWarning: invalid escape sequence '\\C'\n",
            "<>:1: SyntaxWarning: invalid escape sequence '\\C'\n",
            "C:\\Users\\Ruhma\\AppData\\Local\\Temp\\ipykernel_14184\\1500184701.py:1: SyntaxWarning: invalid escape sequence '\\C'\n",
            "  cleaned_df=pd.read_csv('B:\\Code\\Python\\AI lab\\AI resume analyzer\\dataset\\Resume\\Cleaned_Resume_Data.csv')\n"
          ]
        },
        {
          "data": {
            "text/html": [
              "<div>\n",
              "<style scoped>\n",
              "    .dataframe tbody tr th:only-of-type {\n",
              "        vertical-align: middle;\n",
              "    }\n",
              "\n",
              "    .dataframe tbody tr th {\n",
              "        vertical-align: top;\n",
              "    }\n",
              "\n",
              "    .dataframe thead th {\n",
              "        text-align: right;\n",
              "    }\n",
              "</style>\n",
              "<table border=\"1\" class=\"dataframe\">\n",
              "  <thead>\n",
              "    <tr style=\"text-align: right;\">\n",
              "      <th></th>\n",
              "      <th>ID</th>\n",
              "      <th>Cleaned_Resume</th>\n",
              "      <th>Category</th>\n",
              "    </tr>\n",
              "  </thead>\n",
              "  <tbody>\n",
              "    <tr>\n",
              "      <th>0</th>\n",
              "      <td>16852973</td>\n",
              "      <td>HR ADMINISTRATOR/MARKETING ASSOCIATE HR ADMINI...</td>\n",
              "      <td>Hr</td>\n",
              "    </tr>\n",
              "    <tr>\n",
              "      <th>1</th>\n",
              "      <td>22323967</td>\n",
              "      <td>HR SPECIALIST, US HR OPERATIONS Summary Versat...</td>\n",
              "      <td>Hr</td>\n",
              "    </tr>\n",
              "    <tr>\n",
              "      <th>2</th>\n",
              "      <td>33176873</td>\n",
              "      <td>HR DIRECTOR Summary Over 20 years experience i...</td>\n",
              "      <td>Hr</td>\n",
              "    </tr>\n",
              "    <tr>\n",
              "      <th>3</th>\n",
              "      <td>27018550</td>\n",
              "      <td>HR SPECIALIST Summary Dedicated, Driven, and D...</td>\n",
              "      <td>Hr</td>\n",
              "    </tr>\n",
              "    <tr>\n",
              "      <th>4</th>\n",
              "      <td>17812897</td>\n",
              "      <td>HR MANAGER Skill Highlights HR SKILLS HR Depar...</td>\n",
              "      <td>Hr</td>\n",
              "    </tr>\n",
              "    <tr>\n",
              "      <th>...</th>\n",
              "      <td>...</td>\n",
              "      <td>...</td>\n",
              "      <td>...</td>\n",
              "    </tr>\n",
              "    <tr>\n",
              "      <th>2479</th>\n",
              "      <td>99416532</td>\n",
              "      <td>RANK: SGT/E-5 NON- COMMISSIONED OFFICER IN CHA...</td>\n",
              "      <td>Aviation</td>\n",
              "    </tr>\n",
              "    <tr>\n",
              "      <th>2480</th>\n",
              "      <td>24589765</td>\n",
              "      <td>GOVERNMENT RELATIONS, COMMUNICATIONS AND ORGAN...</td>\n",
              "      <td>Aviation</td>\n",
              "    </tr>\n",
              "    <tr>\n",
              "      <th>2481</th>\n",
              "      <td>31605080</td>\n",
              "      <td>GEEK SQUAD AGENT Professional Profile IT suppo...</td>\n",
              "      <td>Aviation</td>\n",
              "    </tr>\n",
              "    <tr>\n",
              "      <th>2482</th>\n",
              "      <td>21190805</td>\n",
              "      <td>PROGRAM DIRECTOR / OFFICE MANAGER Summary High...</td>\n",
              "      <td>Aviation</td>\n",
              "    </tr>\n",
              "    <tr>\n",
              "      <th>2483</th>\n",
              "      <td>37473139</td>\n",
              "      <td>STOREKEEPER II Professional Summary The purpos...</td>\n",
              "      <td>Aviation</td>\n",
              "    </tr>\n",
              "  </tbody>\n",
              "</table>\n",
              "<p>2484 rows × 3 columns</p>\n",
              "</div>"
            ],
            "text/plain": [
              "            ID                                     Cleaned_Resume  Category\n",
              "0     16852973  HR ADMINISTRATOR/MARKETING ASSOCIATE HR ADMINI...        Hr\n",
              "1     22323967  HR SPECIALIST, US HR OPERATIONS Summary Versat...        Hr\n",
              "2     33176873  HR DIRECTOR Summary Over 20 years experience i...        Hr\n",
              "3     27018550  HR SPECIALIST Summary Dedicated, Driven, and D...        Hr\n",
              "4     17812897  HR MANAGER Skill Highlights HR SKILLS HR Depar...        Hr\n",
              "...        ...                                                ...       ...\n",
              "2479  99416532  RANK: SGT/E-5 NON- COMMISSIONED OFFICER IN CHA...  Aviation\n",
              "2480  24589765  GOVERNMENT RELATIONS, COMMUNICATIONS AND ORGAN...  Aviation\n",
              "2481  31605080  GEEK SQUAD AGENT Professional Profile IT suppo...  Aviation\n",
              "2482  21190805  PROGRAM DIRECTOR / OFFICE MANAGER Summary High...  Aviation\n",
              "2483  37473139  STOREKEEPER II Professional Summary The purpos...  Aviation\n",
              "\n",
              "[2484 rows x 3 columns]"
            ]
          },
          "execution_count": 6,
          "metadata": {},
          "output_type": "execute_result"
        }
      ],
      "source": [
        "cleaned_df=pd.read_csv('D:\\AI resume analyzer\\dataset\\Resume\\Cleaned_Resume_Data.csv')\n",
        "cleaned_df"
      ]
    },
    {
      "cell_type": "code",
      "execution_count": null,
      "metadata": {
        "id": "1KPYqhW_ykYD"
      },
      "outputs": [
        {
          "name": "stderr",
          "output_type": "stream",
          "text": [
            "<>:2: SyntaxWarning: invalid escape sequence '\\C'\n",
            "<>:11: SyntaxWarning: invalid escape sequence '\\C'\n",
            "<>:2: SyntaxWarning: invalid escape sequence '\\C'\n",
            "<>:11: SyntaxWarning: invalid escape sequence '\\C'\n",
            "C:\\Users\\Ruhma\\AppData\\Local\\Temp\\ipykernel_14184\\3760509296.py:2: SyntaxWarning: invalid escape sequence '\\C'\n",
            "  df = pd.read_csv('B:\\Code\\Python\\AI lab\\AI resume analyzer\\dataset\\Resume\\Cleaned_Resume_Data.csv')\n",
            "C:\\Users\\Ruhma\\AppData\\Local\\Temp\\ipykernel_14184\\3760509296.py:11: SyntaxWarning: invalid escape sequence '\\C'\n",
            "  df_cleaned.to_csv('B:\\Code\\Python\\AI lab\\AI resume analyzer\\dataset\\Resume\\Cleaned_Resume_Data_final.csv', index=False)\n"
          ]
        }
      ],
      "source": [
        "# Load the dataset\n",
        "df = pd.read_csv('D:\\AI resume analyzer\\dataset\\Resume\\Cleaned_Resume_Data.csv')\n",
        "\n",
        "# Drop rows where 'Cleaned_Resume' is null\n",
        "df_cleaned = df.dropna(subset=['Cleaned_Resume'])\n",
        "\n",
        "# Optional: Reset the index after dropping\n",
        "df_cleaned.reset_index(drop=True, inplace=True)\n",
        "\n",
        "# Save the cleaned dataset (optional)\n",
        "df_cleaned.to_csv('D:\\AI resume analyzer\\dataset\\Resume\\Cleaned_Resume_Data_final.csv', index=False)\n"
      ]
    },
    {
      "cell_type": "code",
      "execution_count": null,
      "metadata": {
        "colab": {
          "base_uri": "https://localhost:8080/",
          "height": 510
        },
        "id": "YyToQova4QxE",
        "outputId": "038e79d6-6404-4fc1-9216-5640bfd5f018"
      },
      "outputs": [
        {
          "name": "stderr",
          "output_type": "stream",
          "text": [
            "<>:1: SyntaxWarning: invalid escape sequence '\\C'\n",
            "<>:1: SyntaxWarning: invalid escape sequence '\\C'\n",
            "C:\\Users\\Ruhma\\AppData\\Local\\Temp\\ipykernel_14184\\4030372012.py:1: SyntaxWarning: invalid escape sequence '\\C'\n",
            "  cleanedd_df=pd.read_csv('B:\\Code\\Python\\AI lab\\AI resume analyzer\\dataset\\Resume\\Cleaned_Resume_Data_final.csv')\n"
          ]
        },
        {
          "data": {
            "text/html": [
              "<div>\n",
              "<style scoped>\n",
              "    .dataframe tbody tr th:only-of-type {\n",
              "        vertical-align: middle;\n",
              "    }\n",
              "\n",
              "    .dataframe tbody tr th {\n",
              "        vertical-align: top;\n",
              "    }\n",
              "\n",
              "    .dataframe thead th {\n",
              "        text-align: right;\n",
              "    }\n",
              "</style>\n",
              "<table border=\"1\" class=\"dataframe\">\n",
              "  <thead>\n",
              "    <tr style=\"text-align: right;\">\n",
              "      <th></th>\n",
              "      <th>ID</th>\n",
              "      <th>Cleaned_Resume</th>\n",
              "      <th>Category</th>\n",
              "    </tr>\n",
              "  </thead>\n",
              "  <tbody>\n",
              "    <tr>\n",
              "      <th>0</th>\n",
              "      <td>16852973</td>\n",
              "      <td>HR ADMINISTRATOR/MARKETING ASSOCIATE HR ADMINI...</td>\n",
              "      <td>Hr</td>\n",
              "    </tr>\n",
              "    <tr>\n",
              "      <th>1</th>\n",
              "      <td>22323967</td>\n",
              "      <td>HR SPECIALIST, US HR OPERATIONS Summary Versat...</td>\n",
              "      <td>Hr</td>\n",
              "    </tr>\n",
              "    <tr>\n",
              "      <th>2</th>\n",
              "      <td>33176873</td>\n",
              "      <td>HR DIRECTOR Summary Over 20 years experience i...</td>\n",
              "      <td>Hr</td>\n",
              "    </tr>\n",
              "    <tr>\n",
              "      <th>3</th>\n",
              "      <td>27018550</td>\n",
              "      <td>HR SPECIALIST Summary Dedicated, Driven, and D...</td>\n",
              "      <td>Hr</td>\n",
              "    </tr>\n",
              "    <tr>\n",
              "      <th>4</th>\n",
              "      <td>17812897</td>\n",
              "      <td>HR MANAGER Skill Highlights HR SKILLS HR Depar...</td>\n",
              "      <td>Hr</td>\n",
              "    </tr>\n",
              "    <tr>\n",
              "      <th>...</th>\n",
              "      <td>...</td>\n",
              "      <td>...</td>\n",
              "      <td>...</td>\n",
              "    </tr>\n",
              "    <tr>\n",
              "      <th>2478</th>\n",
              "      <td>99416532</td>\n",
              "      <td>RANK: SGT/E-5 NON- COMMISSIONED OFFICER IN CHA...</td>\n",
              "      <td>Aviation</td>\n",
              "    </tr>\n",
              "    <tr>\n",
              "      <th>2479</th>\n",
              "      <td>24589765</td>\n",
              "      <td>GOVERNMENT RELATIONS, COMMUNICATIONS AND ORGAN...</td>\n",
              "      <td>Aviation</td>\n",
              "    </tr>\n",
              "    <tr>\n",
              "      <th>2480</th>\n",
              "      <td>31605080</td>\n",
              "      <td>GEEK SQUAD AGENT Professional Profile IT suppo...</td>\n",
              "      <td>Aviation</td>\n",
              "    </tr>\n",
              "    <tr>\n",
              "      <th>2481</th>\n",
              "      <td>21190805</td>\n",
              "      <td>PROGRAM DIRECTOR / OFFICE MANAGER Summary High...</td>\n",
              "      <td>Aviation</td>\n",
              "    </tr>\n",
              "    <tr>\n",
              "      <th>2482</th>\n",
              "      <td>37473139</td>\n",
              "      <td>STOREKEEPER II Professional Summary The purpos...</td>\n",
              "      <td>Aviation</td>\n",
              "    </tr>\n",
              "  </tbody>\n",
              "</table>\n",
              "<p>2483 rows × 3 columns</p>\n",
              "</div>"
            ],
            "text/plain": [
              "            ID                                     Cleaned_Resume  Category\n",
              "0     16852973  HR ADMINISTRATOR/MARKETING ASSOCIATE HR ADMINI...        Hr\n",
              "1     22323967  HR SPECIALIST, US HR OPERATIONS Summary Versat...        Hr\n",
              "2     33176873  HR DIRECTOR Summary Over 20 years experience i...        Hr\n",
              "3     27018550  HR SPECIALIST Summary Dedicated, Driven, and D...        Hr\n",
              "4     17812897  HR MANAGER Skill Highlights HR SKILLS HR Depar...        Hr\n",
              "...        ...                                                ...       ...\n",
              "2478  99416532  RANK: SGT/E-5 NON- COMMISSIONED OFFICER IN CHA...  Aviation\n",
              "2479  24589765  GOVERNMENT RELATIONS, COMMUNICATIONS AND ORGAN...  Aviation\n",
              "2480  31605080  GEEK SQUAD AGENT Professional Profile IT suppo...  Aviation\n",
              "2481  21190805  PROGRAM DIRECTOR / OFFICE MANAGER Summary High...  Aviation\n",
              "2482  37473139  STOREKEEPER II Professional Summary The purpos...  Aviation\n",
              "\n",
              "[2483 rows x 3 columns]"
            ]
          },
          "execution_count": 9,
          "metadata": {},
          "output_type": "execute_result"
        }
      ],
      "source": [
        "cleanedd_df=pd.read_csv('D:\\AI resume analyzer\\dataset\\Resume\\Cleaned_Resume_Data_final.csv')\n",
        "cleanedd_df"
      ]
    },
    {
      "cell_type": "code",
      "execution_count": 10,
      "metadata": {
        "colab": {
          "base_uri": "https://localhost:8080/"
        },
        "id": "-BekCVjJ5iwl",
        "outputId": "79475503-bf78-45cc-faf6-53a7f05920ec"
      },
      "outputs": [
        {
          "data": {
            "text/plain": [
              "Index(['ID', 'Cleaned_Resume', 'Category'], dtype='object')"
            ]
          },
          "execution_count": 10,
          "metadata": {},
          "output_type": "execute_result"
        }
      ],
      "source": [
        "cleanedd_df.columns"
      ]
    },
    {
      "cell_type": "code",
      "execution_count": 11,
      "metadata": {
        "colab": {
          "base_uri": "https://localhost:8080/"
        },
        "id": "J3T-0AtI5FKx",
        "outputId": "fd2ea345-dbac-42d9-85f9-4c89b38f0520"
      },
      "outputs": [
        {
          "data": {
            "text/plain": [
              "array(['Hr', 'Designer', 'Information-Technology', 'Teacher', 'Advocate',\n",
              "       'Business-Development', 'Healthcare', 'Fitness', 'Agriculture',\n",
              "       'Bpo', 'Sales', 'Consultant', 'Digital-Media', 'Automobile',\n",
              "       'Chef', 'Finance', 'Apparel', 'Engineering', 'Accountant',\n",
              "       'Construction', 'Public-Relations', 'Banking', 'Arts', 'Aviation'],\n",
              "      dtype=object)"
            ]
          },
          "execution_count": 11,
          "metadata": {},
          "output_type": "execute_result"
        }
      ],
      "source": [
        "cleanedd_df['Category'].unique()"
      ]
    },
    {
      "cell_type": "code",
      "execution_count": null,
      "metadata": {
        "colab": {
          "base_uri": "https://localhost:8080/"
        },
        "id": "-qsp6aUa75Xx",
        "outputId": "ba905a6e-8592-4ddd-d1f9-c689314db973"
      },
      "outputs": [
        {
          "name": "stdout",
          "output_type": "stream",
          "text": [
            "Collecting scikit-learn\n",
            "  Downloading scikit_learn-1.6.1-cp312-cp312-win_amd64.whl.metadata (15 kB)\n",
            "Requirement already satisfied: numpy>=1.19.5 in b:\\code\\python\\ai lab\\ai resume analyzer\\myenv\\lib\\site-packages (from scikit-learn) (2.2.5)\n",
            "Collecting scipy>=1.6.0 (from scikit-learn)\n",
            "  Downloading scipy-1.15.3-cp312-cp312-win_amd64.whl.metadata (60 kB)\n",
            "Requirement already satisfied: joblib>=1.2.0 in b:\\code\\python\\ai lab\\ai resume analyzer\\myenv\\lib\\site-packages (from scikit-learn) (1.4.2)\n",
            "Collecting threadpoolctl>=3.1.0 (from scikit-learn)\n",
            "  Downloading threadpoolctl-3.6.0-py3-none-any.whl.metadata (13 kB)\n",
            "Downloading scikit_learn-1.6.1-cp312-cp312-win_amd64.whl (11.1 MB)\n",
            "   ---------------------------------------- 0.0/11.1 MB ? eta -:--:--\n",
            "   ---------------------------------------- 0.0/11.1 MB ? eta -:--:--\n",
            "   - -------------------------------------- 0.5/11.1 MB 2.4 MB/s eta 0:00:05\n",
            "   ---- ----------------------------------- 1.3/11.1 MB 3.2 MB/s eta 0:00:04\n",
            "   ------- -------------------------------- 2.1/11.1 MB 3.2 MB/s eta 0:00:03\n",
            "   -------- ------------------------------- 2.4/11.1 MB 3.2 MB/s eta 0:00:03\n",
            "   ---------- ----------------------------- 2.9/11.1 MB 2.5 MB/s eta 0:00:04\n",
            "   ------------ --------------------------- 3.4/11.1 MB 2.5 MB/s eta 0:00:04\n",
            "   --------------- ------------------------ 4.2/11.1 MB 2.6 MB/s eta 0:00:03\n",
            "   ---------------- ----------------------- 4.5/11.1 MB 2.6 MB/s eta 0:00:03\n",
            "   ---------------- ----------------------- 4.5/11.1 MB 2.6 MB/s eta 0:00:03\n",
            "   ----------------- ---------------------- 5.0/11.1 MB 2.3 MB/s eta 0:00:03\n",
            "   -------------------- ------------------- 5.8/11.1 MB 2.4 MB/s eta 0:00:03\n",
            "   --------------------- ------------------ 6.0/11.1 MB 2.2 MB/s eta 0:00:03\n",
            "   ---------------------- ----------------- 6.3/11.1 MB 2.2 MB/s eta 0:00:03\n",
            "   ----------------------- ---------------- 6.6/11.1 MB 2.2 MB/s eta 0:00:03\n",
            "   -------------------------- ------------- 7.3/11.1 MB 2.2 MB/s eta 0:00:02\n",
            "   --------------------------- ------------ 7.6/11.1 MB 2.2 MB/s eta 0:00:02\n",
            "   --------------------------- ------------ 7.6/11.1 MB 2.2 MB/s eta 0:00:02\n",
            "   --------------------------- ------------ 7.6/11.1 MB 2.2 MB/s eta 0:00:02\n",
            "   --------------------------- ------------ 7.6/11.1 MB 2.2 MB/s eta 0:00:02\n",
            "   --------------------------- ------------ 7.6/11.1 MB 2.2 MB/s eta 0:00:02\n",
            "   --------------------------- ------------ 7.6/11.1 MB 2.2 MB/s eta 0:00:02\n",
            "   ----------------------------- ---------- 8.1/11.1 MB 1.6 MB/s eta 0:00:02\n",
            "   ----------------------------- ---------- 8.1/11.1 MB 1.6 MB/s eta 0:00:02\n",
            "   ----------------------------- ---------- 8.1/11.1 MB 1.6 MB/s eta 0:00:02\n",
            "   ----------------------------- ---------- 8.1/11.1 MB 1.6 MB/s eta 0:00:02\n",
            "   ----------------------------- ---------- 8.1/11.1 MB 1.6 MB/s eta 0:00:02\n",
            "   ----------------------------- ---------- 8.1/11.1 MB 1.6 MB/s eta 0:00:02\n",
            "   ----------------------------- ---------- 8.1/11.1 MB 1.6 MB/s eta 0:00:02\n",
            "   ----------------------------- ---------- 8.1/11.1 MB 1.6 MB/s eta 0:00:02\n",
            "   ----------------------------- ---------- 8.1/11.1 MB 1.6 MB/s eta 0:00:02\n",
            "   ------------------------------ --------- 8.4/11.1 MB 1.2 MB/s eta 0:00:03\n",
            "   ------------------------------ --------- 8.4/11.1 MB 1.2 MB/s eta 0:00:03\n",
            "   ------------------------------- -------- 8.7/11.1 MB 1.2 MB/s eta 0:00:03\n",
            "   ------------------------------- -------- 8.7/11.1 MB 1.2 MB/s eta 0:00:03\n",
            "   -------------------------------- ------- 8.9/11.1 MB 1.2 MB/s eta 0:00:02\n",
            "   -------------------------------- ------- 8.9/11.1 MB 1.2 MB/s eta 0:00:02\n",
            "   --------------------------------- ------ 9.2/11.1 MB 1.1 MB/s eta 0:00:02\n",
            "   --------------------------------- ------ 9.2/11.1 MB 1.1 MB/s eta 0:00:02\n",
            "   --------------------------------- ------ 9.2/11.1 MB 1.1 MB/s eta 0:00:02\n",
            "   --------------------------------- ------ 9.4/11.1 MB 1.1 MB/s eta 0:00:02\n",
            "   --------------------------------- ------ 9.4/11.1 MB 1.1 MB/s eta 0:00:02\n",
            "   --------------------------------- ------ 9.4/11.1 MB 1.1 MB/s eta 0:00:02\n",
            "   --------------------------------- ------ 9.4/11.1 MB 1.1 MB/s eta 0:00:02\n",
            "   --------------------------------- ------ 9.4/11.1 MB 1.1 MB/s eta 0:00:02\n",
            "   --------------------------------- ------ 9.4/11.1 MB 1.1 MB/s eta 0:00:02\n",
            "   --------------------------------- ------ 9.4/11.1 MB 1.1 MB/s eta 0:00:02\n",
            "   --------------------------------- ------ 9.4/11.1 MB 1.1 MB/s eta 0:00:02\n",
            "   --------------------------------- ------ 9.4/11.1 MB 1.1 MB/s eta 0:00:02\n",
            "   --------------------------------- ------ 9.4/11.1 MB 1.1 MB/s eta 0:00:02\n",
            "   --------------------------------- ------ 9.4/11.1 MB 1.1 MB/s eta 0:00:02\n",
            "   --------------------------------- ------ 9.4/11.1 MB 1.1 MB/s eta 0:00:02\n",
            "   ---------------------------------- ----- 9.7/11.1 MB 848.3 kB/s eta 0:00:02\n",
            "   ---------------------------------- ----- 9.7/11.1 MB 848.3 kB/s eta 0:00:02\n",
            "   ---------------------------------- ----- 9.7/11.1 MB 848.3 kB/s eta 0:00:02\n",
            "   ---------------------------------- ----- 9.7/11.1 MB 848.3 kB/s eta 0:00:02\n",
            "   ---------------------------------- ----- 9.7/11.1 MB 848.3 kB/s eta 0:00:02\n",
            "   ---------------------------------- ----- 9.7/11.1 MB 848.3 kB/s eta 0:00:02\n",
            "   ---------------------------------- ----- 9.7/11.1 MB 848.3 kB/s eta 0:00:02\n",
            "   ---------------------------------- ----- 9.7/11.1 MB 848.3 kB/s eta 0:00:02\n",
            "   ---------------------------------- ----- 9.7/11.1 MB 848.3 kB/s eta 0:00:02\n",
            "   ---------------------------------- ----- 9.7/11.1 MB 848.3 kB/s eta 0:00:02\n",
            "   ---------------------------------- ----- 9.7/11.1 MB 848.3 kB/s eta 0:00:02\n",
            "   ----------------------------------- ---- 10.0/11.1 MB 716.8 kB/s eta 0:00:02\n",
            "   ----------------------------------- ---- 10.0/11.1 MB 716.8 kB/s eta 0:00:02\n",
            "   ----------------------------------- ---- 10.0/11.1 MB 716.8 kB/s eta 0:00:02\n",
            "   ----------------------------------- ---- 10.0/11.1 MB 716.8 kB/s eta 0:00:02\n",
            "   ----------------------------------- ---- 10.0/11.1 MB 716.8 kB/s eta 0:00:02\n",
            "   ----------------------------------- ---- 10.0/11.1 MB 716.8 kB/s eta 0:00:02\n",
            "   ------------------------------------ --- 10.2/11.1 MB 669.0 kB/s eta 0:00:02\n",
            "   ------------------------------------ --- 10.2/11.1 MB 669.0 kB/s eta 0:00:02\n",
            "   ------------------------------------ --- 10.2/11.1 MB 669.0 kB/s eta 0:00:02\n",
            "   ------------------------------------ --- 10.2/11.1 MB 669.0 kB/s eta 0:00:02\n",
            "   ------------------------------------ --- 10.2/11.1 MB 669.0 kB/s eta 0:00:02\n",
            "   ------------------------------------- -- 10.5/11.1 MB 640.9 kB/s eta 0:00:01\n",
            "   ------------------------------------- -- 10.5/11.1 MB 640.9 kB/s eta 0:00:01\n",
            "   ------------------------------------- -- 10.5/11.1 MB 640.9 kB/s eta 0:00:01\n",
            "   ------------------------------------- -- 10.5/11.1 MB 640.9 kB/s eta 0:00:01\n",
            "   -------------------------------------- - 10.7/11.1 MB 620.8 kB/s eta 0:00:01\n",
            "   -------------------------------------- - 10.7/11.1 MB 620.8 kB/s eta 0:00:01\n",
            "   -------------------------------------- - 10.7/11.1 MB 620.8 kB/s eta 0:00:01\n",
            "   -------------------------------------- - 10.7/11.1 MB 620.8 kB/s eta 0:00:01\n",
            "   ---------------------------------------  11.0/11.1 MB 604.4 kB/s eta 0:00:01\n",
            "   ---------------------------------------  11.0/11.1 MB 604.4 kB/s eta 0:00:01\n",
            "   ---------------------------------------  11.0/11.1 MB 604.4 kB/s eta 0:00:01\n",
            "   ---------------------------------------- 11.1/11.1 MB 590.4 kB/s eta 0:00:00\n",
            "Downloading scipy-1.15.3-cp312-cp312-win_amd64.whl (41.0 MB)\n",
            "   ---------------------------------------- 0.0/41.0 MB ? eta -:--:--\n",
            "   ---------------------------------------- 0.0/41.0 MB ? eta -:--:--\n",
            "   ---------------------------------------- 0.0/41.0 MB ? eta -:--:--\n",
            "   ---------------------------------------- 0.3/41.0 MB ? eta -:--:--\n",
            "   ---------------------------------------- 0.3/41.0 MB ? eta -:--:--\n",
            "    --------------------------------------- 0.5/41.0 MB 599.9 kB/s eta 0:01:08\n",
            "    --------------------------------------- 0.5/41.0 MB 599.9 kB/s eta 0:01:08\n",
            "    --------------------------------------- 0.8/41.0 MB 633.2 kB/s eta 0:01:04\n",
            "   - -------------------------------------- 1.0/41.0 MB 709.1 kB/s eta 0:00:57\n",
            "   - -------------------------------------- 1.3/41.0 MB 771.6 kB/s eta 0:00:52\n",
            "   - -------------------------------------- 1.6/41.0 MB 814.6 kB/s eta 0:00:49\n",
            "   - -------------------------------------- 1.8/41.0 MB 868.0 kB/s eta 0:00:46\n",
            "   -- ------------------------------------- 2.1/41.0 MB 910.7 kB/s eta 0:00:43\n",
            "   -- ------------------------------------- 2.4/41.0 MB 932.1 kB/s eta 0:00:42\n",
            "   -- ------------------------------------- 2.6/41.0 MB 968.1 kB/s eta 0:00:40\n",
            "   -- ------------------------------------- 2.9/41.0 MB 1.0 MB/s eta 0:00:38\n",
            "   --- ------------------------------------ 3.4/41.0 MB 1.1 MB/s eta 0:00:36\n",
            "   --- ------------------------------------ 3.7/41.0 MB 1.1 MB/s eta 0:00:35\n",
            "   --- ------------------------------------ 3.9/41.0 MB 1.1 MB/s eta 0:00:34\n",
            "   ---- ----------------------------------- 4.2/41.0 MB 1.1 MB/s eta 0:00:33\n",
            "   ---- ----------------------------------- 4.7/41.0 MB 1.2 MB/s eta 0:00:32\n",
            "   ---- ----------------------------------- 5.0/41.0 MB 1.2 MB/s eta 0:00:31\n",
            "   ----- ---------------------------------- 5.2/41.0 MB 1.2 MB/s eta 0:00:32\n",
            "   ----- ---------------------------------- 5.2/41.0 MB 1.2 MB/s eta 0:00:32\n",
            "   ----- ---------------------------------- 5.5/41.0 MB 1.1 MB/s eta 0:00:32\n",
            "   ----- ---------------------------------- 5.5/41.0 MB 1.1 MB/s eta 0:00:32\n",
            "   ----- ---------------------------------- 5.8/41.0 MB 1.1 MB/s eta 0:00:33\n",
            "   ----- ---------------------------------- 6.0/41.0 MB 1.1 MB/s eta 0:00:33\n",
            "   ------ --------------------------------- 6.3/41.0 MB 1.1 MB/s eta 0:00:33\n",
            "   ------ --------------------------------- 6.3/41.0 MB 1.1 MB/s eta 0:00:33\n",
            "   ------ --------------------------------- 6.6/41.0 MB 1.1 MB/s eta 0:00:33\n",
            "   ------ --------------------------------- 6.8/41.0 MB 1.0 MB/s eta 0:00:33\n",
            "   ------ --------------------------------- 6.8/41.0 MB 1.0 MB/s eta 0:00:33\n",
            "   ------ --------------------------------- 6.8/41.0 MB 1.0 MB/s eta 0:00:33\n",
            "   ------ --------------------------------- 6.8/41.0 MB 1.0 MB/s eta 0:00:33\n",
            "   ------ --------------------------------- 7.1/41.0 MB 967.2 kB/s eta 0:00:36\n",
            "   ------ --------------------------------- 7.1/41.0 MB 967.2 kB/s eta 0:00:36\n",
            "   ------ --------------------------------- 7.1/41.0 MB 967.2 kB/s eta 0:00:36\n",
            "   ------- -------------------------------- 7.3/41.0 MB 907.8 kB/s eta 0:00:38\n",
            "   ------- -------------------------------- 7.3/41.0 MB 907.8 kB/s eta 0:00:38\n",
            "   ------- -------------------------------- 7.3/41.0 MB 907.8 kB/s eta 0:00:38\n",
            "   ------- -------------------------------- 7.3/41.0 MB 907.8 kB/s eta 0:00:38\n",
            "   ------- -------------------------------- 7.6/41.0 MB 846.4 kB/s eta 0:00:40\n",
            "   ------- -------------------------------- 7.6/41.0 MB 846.4 kB/s eta 0:00:40\n",
            "   ------- -------------------------------- 7.6/41.0 MB 846.4 kB/s eta 0:00:40\n",
            "   ------- -------------------------------- 7.6/41.0 MB 846.4 kB/s eta 0:00:40\n",
            "   ------- -------------------------------- 7.9/41.0 MB 791.2 kB/s eta 0:00:42\n",
            "   ------- -------------------------------- 7.9/41.0 MB 791.2 kB/s eta 0:00:42\n",
            "   ------- -------------------------------- 7.9/41.0 MB 791.2 kB/s eta 0:00:42\n",
            "   ------- -------------------------------- 7.9/41.0 MB 791.2 kB/s eta 0:00:42\n",
            "   ------- -------------------------------- 7.9/41.0 MB 791.2 kB/s eta 0:00:42\n",
            "   ------- -------------------------------- 7.9/41.0 MB 791.2 kB/s eta 0:00:42\n",
            "   ------- -------------------------------- 7.9/41.0 MB 791.2 kB/s eta 0:00:42\n",
            "   ------- -------------------------------- 7.9/41.0 MB 791.2 kB/s eta 0:00:42\n",
            "   ------- -------------------------------- 7.9/41.0 MB 791.2 kB/s eta 0:00:42\n",
            "   ------- -------------------------------- 7.9/41.0 MB 791.2 kB/s eta 0:00:42\n",
            "   ------- -------------------------------- 7.9/41.0 MB 791.2 kB/s eta 0:00:42\n",
            "   ------- -------------------------------- 7.9/41.0 MB 791.2 kB/s eta 0:00:42\n",
            "   ------- -------------------------------- 8.1/41.0 MB 652.8 kB/s eta 0:00:51\n",
            "   ------- -------------------------------- 8.1/41.0 MB 652.8 kB/s eta 0:00:51\n",
            "   ------- -------------------------------- 8.1/41.0 MB 652.8 kB/s eta 0:00:51\n",
            "   ------- -------------------------------- 8.1/41.0 MB 652.8 kB/s eta 0:00:51\n",
            "   ------- -------------------------------- 8.1/41.0 MB 652.8 kB/s eta 0:00:51\n",
            "   ------- -------------------------------- 8.1/41.0 MB 652.8 kB/s eta 0:00:51\n",
            "   ------- -------------------------------- 8.1/41.0 MB 652.8 kB/s eta 0:00:51\n",
            "   ------- -------------------------------- 8.1/41.0 MB 652.8 kB/s eta 0:00:51\n",
            "   ------- -------------------------------- 8.1/41.0 MB 652.8 kB/s eta 0:00:51\n",
            "   -------- ------------------------------- 8.4/41.0 MB 574.1 kB/s eta 0:00:57\n",
            "   -------- ------------------------------- 8.4/41.0 MB 574.1 kB/s eta 0:00:57\n",
            "   -------- ------------------------------- 8.4/41.0 MB 574.1 kB/s eta 0:00:57\n",
            "   -------- ------------------------------- 8.4/41.0 MB 574.1 kB/s eta 0:00:57\n",
            "   -------- ------------------------------- 8.4/41.0 MB 574.1 kB/s eta 0:00:57\n",
            "   -------- ------------------------------- 8.4/41.0 MB 574.1 kB/s eta 0:00:57\n",
            "   -------- ------------------------------- 8.4/41.0 MB 574.1 kB/s eta 0:00:57\n",
            "   -------- ------------------------------- 8.7/41.0 MB 535.3 kB/s eta 0:01:01\n",
            "   -------- ------------------------------- 8.7/41.0 MB 535.3 kB/s eta 0:01:01\n",
            "   -------- ------------------------------- 8.7/41.0 MB 535.3 kB/s eta 0:01:01\n",
            "   -------- ------------------------------- 8.7/41.0 MB 535.3 kB/s eta 0:01:01\n",
            "   -------- ------------------------------- 8.7/41.0 MB 535.3 kB/s eta 0:01:01\n",
            "   -------- ------------------------------- 8.7/41.0 MB 535.3 kB/s eta 0:01:01\n",
            "   -------- ------------------------------- 8.7/41.0 MB 535.3 kB/s eta 0:01:01\n",
            "   -------- ------------------------------- 8.9/41.0 MB 502.9 kB/s eta 0:01:04\n",
            "   -------- ------------------------------- 8.9/41.0 MB 502.9 kB/s eta 0:01:04\n",
            "   -------- ------------------------------- 8.9/41.0 MB 502.9 kB/s eta 0:01:04\n",
            "   -------- ------------------------------- 8.9/41.0 MB 502.9 kB/s eta 0:01:04\n",
            "   -------- ------------------------------- 8.9/41.0 MB 502.9 kB/s eta 0:01:04\n",
            "   -------- ------------------------------- 8.9/41.0 MB 502.9 kB/s eta 0:01:04\n",
            "   -------- ------------------------------- 8.9/41.0 MB 502.9 kB/s eta 0:01:04\n",
            "   -------- ------------------------------- 8.9/41.0 MB 502.9 kB/s eta 0:01:04\n",
            "   -------- ------------------------------- 8.9/41.0 MB 502.9 kB/s eta 0:01:04\n",
            "   -------- ------------------------------- 8.9/41.0 MB 502.9 kB/s eta 0:01:04\n",
            "   -------- ------------------------------- 9.2/41.0 MB 458.6 kB/s eta 0:01:10\n",
            "   -------- ------------------------------- 9.2/41.0 MB 458.6 kB/s eta 0:01:10\n",
            "   -------- ------------------------------- 9.2/41.0 MB 458.6 kB/s eta 0:01:10\n",
            "   -------- ------------------------------- 9.2/41.0 MB 458.6 kB/s eta 0:01:10\n",
            "   -------- ------------------------------- 9.2/41.0 MB 458.6 kB/s eta 0:01:10\n",
            "   -------- ------------------------------- 9.2/41.0 MB 458.6 kB/s eta 0:01:10\n",
            "   -------- ------------------------------- 9.2/41.0 MB 458.6 kB/s eta 0:01:10\n",
            "   --------- ------------------------------ 9.4/41.0 MB 438.2 kB/s eta 0:01:12\n",
            "   --------- ------------------------------ 9.4/41.0 MB 438.2 kB/s eta 0:01:12\n",
            "   --------- ------------------------------ 9.4/41.0 MB 438.2 kB/s eta 0:01:12\n",
            "   --------- ------------------------------ 9.4/41.0 MB 438.2 kB/s eta 0:01:12\n",
            "   --------- ------------------------------ 9.4/41.0 MB 438.2 kB/s eta 0:01:12\n",
            "   --------- ------------------------------ 9.4/41.0 MB 438.2 kB/s eta 0:01:12\n",
            "   --------- ------------------------------ 9.4/41.0 MB 438.2 kB/s eta 0:01:12\n",
            "   --------- ------------------------------ 9.7/41.0 MB 423.0 kB/s eta 0:01:14\n",
            "   --------- ------------------------------ 9.7/41.0 MB 423.0 kB/s eta 0:01:14\n",
            "   --------- ------------------------------ 9.7/41.0 MB 423.0 kB/s eta 0:01:14\n",
            "   --------- ------------------------------ 9.7/41.0 MB 423.0 kB/s eta 0:01:14\n",
            "   --------- ------------------------------ 9.7/41.0 MB 423.0 kB/s eta 0:01:14\n",
            "   --------- ------------------------------ 9.7/41.0 MB 423.0 kB/s eta 0:01:14\n",
            "   --------- ------------------------------ 9.7/41.0 MB 423.0 kB/s eta 0:01:14\n",
            "   --------- ------------------------------ 10.0/41.0 MB 405.5 kB/s eta 0:01:17\n",
            "   --------- ------------------------------ 10.0/41.0 MB 405.5 kB/s eta 0:01:17\n",
            "   --------- ------------------------------ 10.0/41.0 MB 405.5 kB/s eta 0:01:17\n",
            "   --------- ------------------------------ 10.0/41.0 MB 405.5 kB/s eta 0:01:17\n",
            "   --------- ------------------------------ 10.0/41.0 MB 405.5 kB/s eta 0:01:17\n",
            "   --------- ------------------------------ 10.0/41.0 MB 405.5 kB/s eta 0:01:17\n",
            "   --------- ------------------------------ 10.0/41.0 MB 405.5 kB/s eta 0:01:17\n",
            "   --------- ------------------------------ 10.0/41.0 MB 405.5 kB/s eta 0:01:17\n",
            "   --------- ------------------------------ 10.2/41.0 MB 390.2 kB/s eta 0:01:19\n",
            "   --------- ------------------------------ 10.2/41.0 MB 390.2 kB/s eta 0:01:19\n",
            "   --------- ------------------------------ 10.2/41.0 MB 390.2 kB/s eta 0:01:19\n",
            "   --------- ------------------------------ 10.2/41.0 MB 390.2 kB/s eta 0:01:19\n",
            "   --------- ------------------------------ 10.2/41.0 MB 390.2 kB/s eta 0:01:19\n",
            "   --------- ------------------------------ 10.2/41.0 MB 390.2 kB/s eta 0:01:19\n",
            "   --------- ------------------------------ 10.2/41.0 MB 390.2 kB/s eta 0:01:19\n",
            "   ---------- ----------------------------- 10.5/41.0 MB 377.8 kB/s eta 0:01:21\n",
            "   ---------- ----------------------------- 10.5/41.0 MB 377.8 kB/s eta 0:01:21\n",
            "   ---------- ----------------------------- 10.5/41.0 MB 377.8 kB/s eta 0:01:21\n",
            "   ---------- ----------------------------- 10.5/41.0 MB 377.8 kB/s eta 0:01:21\n",
            "   ---------- ----------------------------- 10.5/41.0 MB 377.8 kB/s eta 0:01:21\n",
            "   ---------- ----------------------------- 10.7/41.0 MB 370.4 kB/s eta 0:01:22\n",
            "   ---------- ----------------------------- 10.7/41.0 MB 370.4 kB/s eta 0:01:22\n",
            "   ---------- ----------------------------- 10.7/41.0 MB 370.4 kB/s eta 0:01:22\n",
            "   ---------- ----------------------------- 10.7/41.0 MB 370.4 kB/s eta 0:01:22\n",
            "   ---------- ----------------------------- 10.7/41.0 MB 370.4 kB/s eta 0:01:22\n",
            "   ---------- ----------------------------- 10.7/41.0 MB 370.4 kB/s eta 0:01:22\n",
            "   ---------- ----------------------------- 11.0/41.0 MB 363.4 kB/s eta 0:01:23\n",
            "   ---------- ----------------------------- 11.0/41.0 MB 363.4 kB/s eta 0:01:23\n",
            "   ---------- ----------------------------- 11.0/41.0 MB 363.4 kB/s eta 0:01:23\n",
            "   ---------- ----------------------------- 11.0/41.0 MB 363.4 kB/s eta 0:01:23\n",
            "   ---------- ----------------------------- 11.0/41.0 MB 363.4 kB/s eta 0:01:23\n",
            "   ---------- ----------------------------- 11.0/41.0 MB 363.4 kB/s eta 0:01:23\n",
            "   ---------- ----------------------------- 11.0/41.0 MB 363.4 kB/s eta 0:01:23\n",
            "   ---------- ----------------------------- 11.0/41.0 MB 363.4 kB/s eta 0:01:23\n",
            "   ---------- ----------------------------- 11.0/41.0 MB 363.4 kB/s eta 0:01:23\n",
            "   ---------- ----------------------------- 11.0/41.0 MB 363.4 kB/s eta 0:01:23\n",
            "   ---------- ----------------------------- 11.0/41.0 MB 363.4 kB/s eta 0:01:23\n",
            "   ----------- ---------------------------- 11.3/41.0 MB 306.0 kB/s eta 0:01:38\n",
            "   ----------- ---------------------------- 11.3/41.0 MB 306.0 kB/s eta 0:01:38\n",
            "   ----------- ---------------------------- 11.3/41.0 MB 306.0 kB/s eta 0:01:38\n",
            "   ----------- ---------------------------- 11.3/41.0 MB 306.0 kB/s eta 0:01:38\n",
            "   ----------- ---------------------------- 11.3/41.0 MB 306.0 kB/s eta 0:01:38\n",
            "   ----------- ---------------------------- 11.3/41.0 MB 306.0 kB/s eta 0:01:38\n",
            "   ----------- ---------------------------- 11.3/41.0 MB 306.0 kB/s eta 0:01:38\n",
            "   ----------- ---------------------------- 11.3/41.0 MB 306.0 kB/s eta 0:01:38\n",
            "   ----------- ---------------------------- 11.3/41.0 MB 306.0 kB/s eta 0:01:38\n",
            "   ----------- ---------------------------- 11.3/41.0 MB 306.0 kB/s eta 0:01:38\n",
            "   ----------- ---------------------------- 11.3/41.0 MB 306.0 kB/s eta 0:01:38\n",
            "   ----------- ---------------------------- 11.3/41.0 MB 306.0 kB/s eta 0:01:38\n",
            "   ----------- ---------------------------- 11.3/41.0 MB 306.0 kB/s eta 0:01:38\n",
            "   ----------- ---------------------------- 11.3/41.0 MB 306.0 kB/s eta 0:01:38\n",
            "   ----------- ---------------------------- 11.3/41.0 MB 306.0 kB/s eta 0:01:38\n",
            "   ----------- ---------------------------- 11.3/41.0 MB 306.0 kB/s eta 0:01:38\n",
            "   ----------- ---------------------------- 11.3/41.0 MB 306.0 kB/s eta 0:01:38\n",
            "   ----------- ---------------------------- 11.3/41.0 MB 306.0 kB/s eta 0:01:38\n",
            "   ----------- ---------------------------- 11.3/41.0 MB 306.0 kB/s eta 0:01:38\n",
            "   ----------- ---------------------------- 11.3/41.0 MB 306.0 kB/s eta 0:01:38\n",
            "   ----------- ---------------------------- 11.3/41.0 MB 306.0 kB/s eta 0:01:38\n",
            "   ----------- ---------------------------- 11.3/41.0 MB 306.0 kB/s eta 0:01:38\n",
            "   ----------- ---------------------------- 11.3/41.0 MB 306.0 kB/s eta 0:01:38\n",
            "   ----------- ---------------------------- 11.5/41.0 MB 149.2 kB/s eta 0:03:18\n",
            "   ----------- ---------------------------- 11.5/41.0 MB 149.2 kB/s eta 0:03:18\n",
            "   ----------- ---------------------------- 11.5/41.0 MB 149.2 kB/s eta 0:03:18\n",
            "   ----------- ---------------------------- 11.5/41.0 MB 149.2 kB/s eta 0:03:18\n",
            "   ----------- ---------------------------- 11.5/41.0 MB 149.2 kB/s eta 0:03:18\n",
            "   ----------- ---------------------------- 11.5/41.0 MB 149.2 kB/s eta 0:03:18\n",
            "   ----------- ---------------------------- 11.5/41.0 MB 149.2 kB/s eta 0:03:18\n",
            "   ----------- ---------------------------- 11.5/41.0 MB 149.2 kB/s eta 0:03:18\n",
            "   ----------- ---------------------------- 11.5/41.0 MB 149.2 kB/s eta 0:03:18\n",
            "   ----------- ---------------------------- 11.5/41.0 MB 149.2 kB/s eta 0:03:18\n",
            "   ----------- ---------------------------- 11.8/41.0 MB 133.1 kB/s eta 0:03:40\n",
            "   ----------- ---------------------------- 11.8/41.0 MB 133.1 kB/s eta 0:03:40\n",
            "   ----------- ---------------------------- 11.8/41.0 MB 133.1 kB/s eta 0:03:40\n",
            "   ----------- ---------------------------- 11.8/41.0 MB 133.1 kB/s eta 0:03:40\n",
            "   ----------- ---------------------------- 11.8/41.0 MB 133.1 kB/s eta 0:03:40\n",
            "   ----------- ---------------------------- 11.8/41.0 MB 133.1 kB/s eta 0:03:40\n",
            "   ----------- ---------------------------- 11.8/41.0 MB 133.1 kB/s eta 0:03:40\n",
            "   ----------- ---------------------------- 11.8/41.0 MB 133.1 kB/s eta 0:03:40\n",
            "   ----------- ---------------------------- 11.8/41.0 MB 133.1 kB/s eta 0:03:40\n",
            "   ----------- ---------------------------- 11.8/41.0 MB 133.1 kB/s eta 0:03:40\n",
            "   ----------- ---------------------------- 11.8/41.0 MB 133.1 kB/s eta 0:03:40\n",
            "   ----------- ---------------------------- 11.8/41.0 MB 133.1 kB/s eta 0:03:40\n",
            "   ----------- ---------------------------- 12.1/41.0 MB 132.8 kB/s eta 0:03:38\n",
            "   ----------- ---------------------------- 12.1/41.0 MB 132.8 kB/s eta 0:03:38\n",
            "   ----------- ---------------------------- 12.1/41.0 MB 132.8 kB/s eta 0:03:38\n",
            "   ----------- ---------------------------- 12.1/41.0 MB 132.8 kB/s eta 0:03:38\n",
            "   ----------- ---------------------------- 12.1/41.0 MB 132.8 kB/s eta 0:03:38\n",
            "   ----------- ---------------------------- 12.1/41.0 MB 132.8 kB/s eta 0:03:38\n",
            "   ----------- ---------------------------- 12.1/41.0 MB 132.8 kB/s eta 0:03:38\n",
            "   ----------- ---------------------------- 12.1/41.0 MB 132.8 kB/s eta 0:03:38\n",
            "   ----------- ---------------------------- 12.1/41.0 MB 132.8 kB/s eta 0:03:38\n",
            "   ----------- ---------------------------- 12.1/41.0 MB 132.8 kB/s eta 0:03:38\n",
            "   ----------- ---------------------------- 12.1/41.0 MB 132.8 kB/s eta 0:03:38\n",
            "   ----------- ---------------------------- 12.1/41.0 MB 132.8 kB/s eta 0:03:38\n",
            "   ----------- ---------------------------- 12.1/41.0 MB 132.8 kB/s eta 0:03:38\n",
            "   ----------- ---------------------------- 12.1/41.0 MB 132.8 kB/s eta 0:03:38\n",
            "   ----------- ---------------------------- 12.1/41.0 MB 132.8 kB/s eta 0:03:38\n",
            "   ------------ --------------------------- 12.3/41.0 MB 124.9 kB/s eta 0:03:50\n",
            "   ------------ --------------------------- 12.3/41.0 MB 124.9 kB/s eta 0:03:50\n",
            "   ------------ --------------------------- 12.3/41.0 MB 124.9 kB/s eta 0:03:50\n",
            "   ------------ --------------------------- 12.3/41.0 MB 124.9 kB/s eta 0:03:50\n",
            "   ------------ --------------------------- 12.3/41.0 MB 124.9 kB/s eta 0:03:50\n",
            "   ------------ --------------------------- 12.3/41.0 MB 124.9 kB/s eta 0:03:50\n",
            "   ------------ --------------------------- 12.3/41.0 MB 124.9 kB/s eta 0:03:50\n",
            "   ------------ --------------------------- 12.3/41.0 MB 124.9 kB/s eta 0:03:50\n",
            "   ------------ --------------------------- 12.3/41.0 MB 124.9 kB/s eta 0:03:50\n",
            "   ------------ --------------------------- 12.3/41.0 MB 124.9 kB/s eta 0:03:50\n",
            "   ------------ --------------------------- 12.3/41.0 MB 124.9 kB/s eta 0:03:50\n",
            "   ------------ --------------------------- 12.3/41.0 MB 124.9 kB/s eta 0:03:50\n",
            "   ------------ --------------------------- 12.3/41.0 MB 124.9 kB/s eta 0:03:50\n",
            "   ------------ --------------------------- 12.3/41.0 MB 124.9 kB/s eta 0:03:50\n",
            "   ------------ --------------------------- 12.3/41.0 MB 124.9 kB/s eta 0:03:50\n",
            "   ------------ --------------------------- 12.3/41.0 MB 124.9 kB/s eta 0:03:50\n",
            "   ------------ --------------------------- 12.3/41.0 MB 124.9 kB/s eta 0:03:50\n",
            "   ------------ --------------------------- 12.3/41.0 MB 124.9 kB/s eta 0:03:50\n",
            "   ------------ --------------------------- 12.3/41.0 MB 124.9 kB/s eta 0:03:50\n",
            "   ------------ --------------------------- 12.3/41.0 MB 124.9 kB/s eta 0:03:50\n",
            "   ------------ --------------------------- 12.6/41.0 MB 110.1 kB/s eta 0:04:18\n",
            "   ------------ --------------------------- 12.6/41.0 MB 110.1 kB/s eta 0:04:18\n",
            "   ------------ --------------------------- 12.6/41.0 MB 110.1 kB/s eta 0:04:18\n",
            "   ------------ --------------------------- 12.6/41.0 MB 110.1 kB/s eta 0:04:18\n",
            "   ------------ --------------------------- 12.6/41.0 MB 110.1 kB/s eta 0:04:18\n",
            "   ------------ --------------------------- 12.6/41.0 MB 110.1 kB/s eta 0:04:18\n",
            "   ------------ --------------------------- 12.6/41.0 MB 110.1 kB/s eta 0:04:18\n",
            "   ------------ --------------------------- 12.6/41.0 MB 110.1 kB/s eta 0:04:18\n",
            "   ------------ --------------------------- 12.6/41.0 MB 110.1 kB/s eta 0:04:18\n",
            "   ------------ --------------------------- 12.6/41.0 MB 110.1 kB/s eta 0:04:18\n",
            "   ------------ --------------------------- 12.6/41.0 MB 110.1 kB/s eta 0:04:18\n",
            "   ------------ --------------------------- 12.6/41.0 MB 110.1 kB/s eta 0:04:18\n",
            "   ------------ --------------------------- 12.6/41.0 MB 110.1 kB/s eta 0:04:18\n",
            "   ------------ --------------------------- 12.6/41.0 MB 110.1 kB/s eta 0:04:18\n",
            "   ------------ --------------------------- 12.6/41.0 MB 110.1 kB/s eta 0:04:18\n",
            "   ------------ --------------------------- 12.6/41.0 MB 110.1 kB/s eta 0:04:18\n",
            "   ------------ --------------------------- 12.6/41.0 MB 110.1 kB/s eta 0:04:18\n",
            "   ------------ --------------------------- 12.6/41.0 MB 110.1 kB/s eta 0:04:18\n",
            "   ------------ --------------------------- 12.8/41.0 MB 98.0 kB/s eta 0:04:48\n",
            "   ------------ --------------------------- 12.8/41.0 MB 98.0 kB/s eta 0:04:48\n",
            "   ------------ --------------------------- 12.8/41.0 MB 98.0 kB/s eta 0:04:48\n",
            "   ------------ --------------------------- 12.8/41.0 MB 98.0 kB/s eta 0:04:48\n",
            "   ------------ --------------------------- 12.8/41.0 MB 98.0 kB/s eta 0:04:48\n",
            "   ------------ --------------------------- 12.8/41.0 MB 98.0 kB/s eta 0:04:48\n",
            "   ------------ --------------------------- 13.1/41.0 MB 98.4 kB/s eta 0:04:44\n",
            "   ------------ --------------------------- 13.1/41.0 MB 98.4 kB/s eta 0:04:44\n",
            "   ------------ --------------------------- 13.1/41.0 MB 98.4 kB/s eta 0:04:44\n",
            "   ------------ --------------------------- 13.1/41.0 MB 98.4 kB/s eta 0:04:44\n",
            "   ------------ --------------------------- 13.1/41.0 MB 98.4 kB/s eta 0:04:44\n",
            "   ------------- -------------------------- 13.4/41.0 MB 100.6 kB/s eta 0:04:35\n",
            "   ------------- -------------------------- 13.4/41.0 MB 100.6 kB/s eta 0:04:35\n",
            "   ------------- -------------------------- 13.6/41.0 MB 107.5 kB/s eta 0:04:15\n",
            "   ------------- -------------------------- 13.6/41.0 MB 107.5 kB/s eta 0:04:15\n",
            "   ------------- -------------------------- 13.9/41.0 MB 114.8 kB/s eta 0:03:56\n",
            "   ------------- -------------------------- 13.9/41.0 MB 114.8 kB/s eta 0:03:56\n",
            "   ------------- -------------------------- 14.2/41.0 MB 118.1 kB/s eta 0:03:48\n",
            "   ------------- -------------------------- 14.2/41.0 MB 118.1 kB/s eta 0:03:48\n",
            "   -------------- ------------------------- 14.4/41.0 MB 125.7 kB/s eta 0:03:32\n",
            "   -------------- ------------------------- 14.7/41.0 MB 133.4 kB/s eta 0:03:18\n",
            "   -------------- ------------------------- 14.9/41.0 MB 141.1 kB/s eta 0:03:05\n",
            "   -------------- ------------------------- 15.2/41.0 MB 148.8 kB/s eta 0:02:54\n",
            "   --------------- ------------------------ 15.5/41.0 MB 154.3 kB/s eta 0:02:46\n",
            "   --------------- ------------------------ 15.7/41.0 MB 162.2 kB/s eta 0:02:36\n",
            "   --------------- ------------------------ 16.3/41.0 MB 178.2 kB/s eta 0:02:19\n",
            "   ---------------- ----------------------- 16.5/41.0 MB 186.0 kB/s eta 0:02:12\n",
            "   ---------------- ----------------------- 17.0/41.0 MB 201.5 kB/s eta 0:01:59\n",
            "   ---------------- ----------------------- 17.3/41.0 MB 217.8 kB/s eta 0:01:49\n",
            "   ----------------- ---------------------- 17.8/41.0 MB 234.6 kB/s eta 0:01:39\n",
            "   ----------------- ---------------------- 18.4/41.0 MB 251.2 kB/s eta 0:01:31\n",
            "   ------------------ --------------------- 18.9/41.0 MB 267.2 kB/s eta 0:01:23\n",
            "   ------------------ --------------------- 19.4/41.0 MB 283.6 kB/s eta 0:01:17\n",
            "   ------------------- -------------------- 19.7/41.0 MB 291.9 kB/s eta 0:01:13\n",
            "   ------------------- -------------------- 20.2/41.0 MB 306.4 kB/s eta 0:01:08\n",
            "   -------------------- ------------------- 20.7/41.0 MB 322.6 kB/s eta 0:01:03\n",
            "   -------------------- ------------------- 21.2/41.0 MB 337.5 kB/s eta 0:00:59\n",
            "   --------------------- ------------------ 21.8/41.0 MB 352.7 kB/s eta 0:00:55\n",
            "   --------------------- ------------------ 22.3/41.0 MB 367.2 kB/s eta 0:00:51\n",
            "   ---------------------- ----------------- 23.1/41.0 MB 455.4 kB/s eta 0:00:40\n",
            "   ---------------------- ----------------- 23.3/41.0 MB 463.5 kB/s eta 0:00:39\n",
            "   ----------------------- ---------------- 23.9/41.0 MB 478.2 kB/s eta 0:00:36\n",
            "   ----------------------- ---------------- 23.9/41.0 MB 478.2 kB/s eta 0:00:36\n",
            "   ----------------------- ---------------- 24.4/41.0 MB 491.7 kB/s eta 0:00:34\n",
            "   ------------------------ --------------- 24.6/41.0 MB 498.4 kB/s eta 0:00:33\n",
            "   ------------------------ --------------- 24.9/41.0 MB 503.3 kB/s eta 0:00:32\n",
            "   ------------------------ --------------- 24.9/41.0 MB 503.3 kB/s eta 0:00:32\n",
            "   ------------------------ --------------- 24.9/41.0 MB 503.3 kB/s eta 0:00:32\n",
            "   ------------------------ --------------- 24.9/41.0 MB 503.3 kB/s eta 0:00:32\n",
            "   ------------------------ --------------- 25.2/41.0 MB 495.7 kB/s eta 0:00:32\n",
            "   ------------------------ --------------- 25.2/41.0 MB 495.7 kB/s eta 0:00:32\n",
            "   ------------------------ --------------- 25.4/41.0 MB 499.8 kB/s eta 0:00:32\n",
            "   ------------------------- -------------- 25.7/41.0 MB 503.3 kB/s eta 0:00:31\n",
            "   ------------------------- -------------- 25.7/41.0 MB 503.3 kB/s eta 0:00:31\n",
            "   ------------------------- -------------- 26.0/41.0 MB 506.2 kB/s eta 0:00:30\n",
            "   ------------------------- -------------- 26.2/41.0 MB 509.5 kB/s eta 0:00:29\n",
            "   ------------------------- -------------- 26.2/41.0 MB 509.5 kB/s eta 0:00:29\n",
            "   ------------------------- -------------- 26.2/41.0 MB 509.5 kB/s eta 0:00:29\n",
            "   ------------------------- -------------- 26.5/41.0 MB 510.0 kB/s eta 0:00:29\n",
            "   ------------------------- -------------- 26.5/41.0 MB 510.0 kB/s eta 0:00:29\n",
            "   -------------------------- ------------- 26.7/41.0 MB 510.8 kB/s eta 0:00:28\n",
            "   -------------------------- ------------- 27.0/41.0 MB 546.7 kB/s eta 0:00:26\n",
            "   -------------------------- ------------- 27.0/41.0 MB 546.7 kB/s eta 0:00:26\n",
            "   -------------------------- ------------- 27.3/41.0 MB 549.3 kB/s eta 0:00:25\n",
            "   -------------------------- ------------- 27.3/41.0 MB 549.3 kB/s eta 0:00:25\n",
            "   -------------------------- ------------- 27.5/41.0 MB 550.4 kB/s eta 0:00:25\n",
            "   -------------------------- ------------- 27.5/41.0 MB 550.4 kB/s eta 0:00:25\n",
            "   --------------------------- ------------ 27.8/41.0 MB 550.8 kB/s eta 0:00:24\n",
            "   --------------------------- ------------ 27.8/41.0 MB 550.8 kB/s eta 0:00:24\n",
            "   --------------------------- ------------ 28.0/41.0 MB 551.8 kB/s eta 0:00:24\n",
            "   --------------------------- ------------ 28.3/41.0 MB 553.4 kB/s eta 0:00:23\n",
            "   --------------------------- ------------ 28.3/41.0 MB 553.4 kB/s eta 0:00:23\n",
            "   --------------------------- ------------ 28.6/41.0 MB 595.5 kB/s eta 0:00:21\n",
            "   --------------------------- ------------ 28.6/41.0 MB 595.5 kB/s eta 0:00:21\n",
            "   ---------------------------- ----------- 28.8/41.0 MB 597.5 kB/s eta 0:00:21\n",
            "   ---------------------------- ----------- 29.1/41.0 MB 599.5 kB/s eta 0:00:20\n",
            "   ---------------------------- ----------- 29.1/41.0 MB 599.5 kB/s eta 0:00:20\n",
            "   ---------------------------- ----------- 29.4/41.0 MB 602.4 kB/s eta 0:00:20\n",
            "   ---------------------------- ----------- 29.6/41.0 MB 604.4 kB/s eta 0:00:19\n",
            "   ---------------------------- ----------- 29.6/41.0 MB 604.4 kB/s eta 0:00:19\n",
            "   ----------------------------- ---------- 29.9/41.0 MB 605.6 kB/s eta 0:00:19\n",
            "   ----------------------------- ---------- 30.1/41.0 MB 608.0 kB/s eta 0:00:18\n",
            "   ----------------------------- ---------- 30.1/41.0 MB 608.0 kB/s eta 0:00:18\n",
            "   ----------------------------- ---------- 30.4/41.0 MB 677.0 kB/s eta 0:00:16\n",
            "   ----------------------------- ---------- 30.4/41.0 MB 677.0 kB/s eta 0:00:16\n",
            "   ----------------------------- ---------- 30.4/41.0 MB 677.0 kB/s eta 0:00:16\n",
            "   ----------------------------- ---------- 30.7/41.0 MB 670.0 kB/s eta 0:00:16\n",
            "   ----------------------------- ---------- 30.7/41.0 MB 670.0 kB/s eta 0:00:16\n",
            "   ------------------------------ --------- 30.9/41.0 MB 668.5 kB/s eta 0:00:16\n",
            "   ------------------------------ --------- 30.9/41.0 MB 668.5 kB/s eta 0:00:16\n",
            "   ------------------------------ --------- 31.2/41.0 MB 669.6 kB/s eta 0:00:15\n",
            "   ------------------------------ --------- 31.5/41.0 MB 672.2 kB/s eta 0:00:15\n",
            "   ------------------------------ --------- 31.7/41.0 MB 674.7 kB/s eta 0:00:14\n",
            "   ------------------------------ --------- 31.7/41.0 MB 674.7 kB/s eta 0:00:14\n",
            "   ------------------------------- -------- 32.0/41.0 MB 676.1 kB/s eta 0:00:14\n",
            "   ------------------------------- -------- 32.2/41.0 MB 679.0 kB/s eta 0:00:13\n",
            "   ------------------------------- -------- 32.5/41.0 MB 681.7 kB/s eta 0:00:13\n",
            "   ------------------------------- -------- 32.5/41.0 MB 681.7 kB/s eta 0:00:13\n",
            "   ------------------------------- -------- 32.8/41.0 MB 683.7 kB/s eta 0:00:12\n",
            "   -------------------------------- ------- 33.0/41.0 MB 795.1 kB/s eta 0:00:10\n",
            "   -------------------------------- ------- 33.3/41.0 MB 797.5 kB/s eta 0:00:10\n",
            "   -------------------------------- ------- 33.6/41.0 MB 800.3 kB/s eta 0:00:10\n",
            "   --------------------------------- ------ 33.8/41.0 MB 802.7 kB/s eta 0:00:09\n",
            "   --------------------------------- ------ 34.1/41.0 MB 804.5 kB/s eta 0:00:09\n",
            "   --------------------------------- ------ 34.3/41.0 MB 808.2 kB/s eta 0:00:09\n",
            "   --------------------------------- ------ 34.6/41.0 MB 810.4 kB/s eta 0:00:08\n",
            "   ---------------------------------- ----- 34.9/41.0 MB 813.5 kB/s eta 0:00:08\n",
            "   ---------------------------------- ----- 35.1/41.0 MB 817.5 kB/s eta 0:00:08\n",
            "   ---------------------------------- ----- 35.4/41.0 MB 820.5 kB/s eta 0:00:07\n",
            "   ---------------------------------- ----- 35.7/41.0 MB 824.4 kB/s eta 0:00:07\n",
            "   ---------------------------------- ----- 35.7/41.0 MB 824.4 kB/s eta 0:00:07\n",
            "   ----------------------------------- ---- 36.2/41.0 MB 830.6 kB/s eta 0:00:06\n",
            "   ----------------------------------- ---- 36.4/41.0 MB 832.5 kB/s eta 0:00:06\n",
            "   ----------------------------------- ---- 36.7/41.0 MB 833.4 kB/s eta 0:00:06\n",
            "   ------------------------------------ --- 37.0/41.0 MB 836.6 kB/s eta 0:00:05\n",
            "   ------------------------------------ --- 37.2/41.0 MB 840.2 kB/s eta 0:00:05\n",
            "   ------------------------------------ --- 37.5/41.0 MB 842.0 kB/s eta 0:00:05\n",
            "   ------------------------------------ --- 37.7/41.0 MB 845.9 kB/s eta 0:00:04\n",
            "   ------------------------------------- -- 38.0/41.0 MB 848.9 kB/s eta 0:00:04\n",
            "   ------------------------------------- -- 38.5/41.0 MB 971.7 kB/s eta 0:00:03\n",
            "   ------------------------------------- -- 38.5/41.0 MB 971.7 kB/s eta 0:00:03\n",
            "   -------------------------------------- - 39.1/41.0 MB 976.5 kB/s eta 0:00:02\n",
            "   -------------------------------------- - 39.3/41.0 MB 979.5 kB/s eta 0:00:02\n",
            "   -------------------------------------- - 39.6/41.0 MB 983.5 kB/s eta 0:00:02\n",
            "   ---------------------------------------  40.1/41.0 MB 990.8 kB/s eta 0:00:01\n",
            "   ---------------------------------------  40.4/41.0 MB 993.0 kB/s eta 0:00:01\n",
            "   ---------------------------------------  40.4/41.0 MB 993.0 kB/s eta 0:00:01\n",
            "   ---------------------------------------  40.6/41.0 MB 993.0 kB/s eta 0:00:01\n",
            "   ---------------------------------------  40.9/41.0 MB 995.1 kB/s eta 0:00:01\n",
            "   ---------------------------------------  40.9/41.0 MB 995.1 kB/s eta 0:00:01\n",
            "   ---------------------------------------  40.9/41.0 MB 995.1 kB/s eta 0:00:01\n",
            "   ---------------------------------------  40.9/41.0 MB 995.1 kB/s eta 0:00:01\n",
            "   ---------------------------------------  40.9/41.0 MB 995.1 kB/s eta 0:00:01\n",
            "   ---------------------------------------- 41.0/41.0 MB 959.3 kB/s eta 0:00:00\n",
            "Downloading threadpoolctl-3.6.0-py3-none-any.whl (18 kB)\n",
            "Installing collected packages: threadpoolctl, scipy, scikit-learn\n",
            "Successfully installed scikit-learn-1.6.1 scipy-1.15.3 threadpoolctl-3.6.0\n"
          ]
        },
        {
          "name": "stderr",
          "output_type": "stream",
          "text": [
            "\n",
            "[notice] A new release of pip is available: 24.2 -> 25.1.1\n",
            "[notice] To update, run: python.exe -m pip install --upgrade pip\n"
          ]
        }
      ],
      "source": [
        "%pip install scikit-learn"
      ]
    },
    {
      "cell_type": "markdown",
      "metadata": {
        "id": "tIFWvqsmAVeM"
      },
      "source": [
        "# Training the Model"
      ]
    },
    {
      "cell_type": "code",
      "execution_count": null,
      "metadata": {
        "colab": {
          "base_uri": "https://localhost:8080/"
        },
        "id": "ypRQiJrk5mvj",
        "outputId": "f0b76760-4719-4d6f-f65a-76131c3cad75"
      },
      "outputs": [
        {
          "name": "stderr",
          "output_type": "stream",
          "text": [
            "<>:10: SyntaxWarning: invalid escape sequence '\\C'\n",
            "<>:10: SyntaxWarning: invalid escape sequence '\\C'\n",
            "C:\\Users\\Ruhma\\AppData\\Local\\Temp\\ipykernel_14184\\1172230051.py:10: SyntaxWarning: invalid escape sequence '\\C'\n",
            "  df = pd.read_csv(\"B:\\Code\\Python\\AI lab\\AI resume analyzer\\dataset\\Resume\\Cleaned_Resume_Data_final.csv\")\n"
          ]
        },
        {
          "name": "stdout",
          "output_type": "stream",
          "text": [
            "Accuracy: 0.6519114688128773\n",
            "\n",
            "Classification Report:\n",
            "                         precision    recall  f1-score   support\n",
            "\n",
            "            Accountant       0.67      0.83      0.74        24\n",
            "              Advocate       0.37      0.58      0.45        24\n",
            "           Agriculture       1.00      0.46      0.63        13\n",
            "               Apparel       0.67      0.21      0.32        19\n",
            "                  Arts       0.46      0.29      0.35        21\n",
            "            Automobile       0.00      0.00      0.00         7\n",
            "              Aviation       0.85      0.71      0.77        24\n",
            "               Banking       0.83      0.65      0.73        23\n",
            "                   Bpo       0.00      0.00      0.00         4\n",
            "  Business-Development       0.46      0.79      0.58        24\n",
            "                  Chef       0.81      0.71      0.76        24\n",
            "          Construction       0.78      0.82      0.80        22\n",
            "            Consultant       0.44      0.17      0.25        23\n",
            "              Designer       0.84      0.76      0.80        21\n",
            "         Digital-Media       0.71      0.53      0.61        19\n",
            "           Engineering       0.75      0.75      0.75        24\n",
            "               Finance       0.77      0.71      0.74        24\n",
            "               Fitness       0.94      0.70      0.80        23\n",
            "            Healthcare       0.61      0.74      0.67        23\n",
            "                    Hr       0.80      0.91      0.85        22\n",
            "Information-Technology       0.69      1.00      0.81        24\n",
            "      Public-Relations       0.61      0.77      0.68        22\n",
            "                 Sales       0.42      0.61      0.50        23\n",
            "               Teacher       0.56      0.75      0.64        20\n",
            "\n",
            "              accuracy                           0.65       497\n",
            "             macro avg       0.63      0.60      0.59       497\n",
            "          weighted avg       0.66      0.65      0.64       497\n",
            "\n"
          ]
        },
        {
          "name": "stderr",
          "output_type": "stream",
          "text": [
            "b:\\Code\\Python\\AI lab\\AI resume analyzer\\myenv\\Lib\\site-packages\\sklearn\\metrics\\_classification.py:1565: UndefinedMetricWarning: Precision is ill-defined and being set to 0.0 in labels with no predicted samples. Use `zero_division` parameter to control this behavior.\n",
            "  _warn_prf(average, modifier, f\"{metric.capitalize()} is\", len(result))\n",
            "b:\\Code\\Python\\AI lab\\AI resume analyzer\\myenv\\Lib\\site-packages\\sklearn\\metrics\\_classification.py:1565: UndefinedMetricWarning: Precision is ill-defined and being set to 0.0 in labels with no predicted samples. Use `zero_division` parameter to control this behavior.\n",
            "  _warn_prf(average, modifier, f\"{metric.capitalize()} is\", len(result))\n",
            "b:\\Code\\Python\\AI lab\\AI resume analyzer\\myenv\\Lib\\site-packages\\sklearn\\metrics\\_classification.py:1565: UndefinedMetricWarning: Precision is ill-defined and being set to 0.0 in labels with no predicted samples. Use `zero_division` parameter to control this behavior.\n",
            "  _warn_prf(average, modifier, f\"{metric.capitalize()} is\", len(result))\n"
          ]
        }
      ],
      "source": [
        "#Logistic Regression Model\n",
        "\n",
        "import pandas as pd\n",
        "from sklearn.model_selection import train_test_split\n",
        "from sklearn.feature_extraction.text import TfidfVectorizer\n",
        "from sklearn.linear_model import LogisticRegression\n",
        "from sklearn.metrics import accuracy_score, classification_report, confusion_matrix\n",
        "\n",
        "# Step 1: Load cleaned data\n",
        "df = pd.read_csv(\"D:\\AI resume analyzer\\dataset\\Resume\\Cleaned_Resume_Data_final.csv\")\n",
        "\n",
        "# Step 2: Split data\n",
        "X = df['Cleaned_Resume']\n",
        "y = df['Category']\n",
        "X_train, X_test, y_train, y_test = train_test_split(X, y, test_size=0.2, random_state=42, stratify=y)\n",
        "\n",
        "# Step 3: Vectorize using TF-IDF\n",
        "vectorizer = TfidfVectorizer(max_features=5000, stop_words='english')\n",
        "X_train_vec = vectorizer.fit_transform(X_train)\n",
        "X_test_vec = vectorizer.transform(X_test)\n",
        "\n",
        "# Step 4: Train Logistic Regression\n",
        "model = LogisticRegression(max_iter=1000)\n",
        "model.fit(X_train_vec, y_train)\n",
        "\n",
        "# Step 5: Evaluate\n",
        "y_pred = model.predict(X_test_vec)\n",
        "print(\"Accuracy:\", accuracy_score(y_test, y_pred))\n",
        "print(\"\\nClassification Report:\\n\", classification_report(y_test, y_pred))"
      ]
    },
    {
      "cell_type": "code",
      "execution_count": null,
      "metadata": {
        "colab": {
          "base_uri": "https://localhost:8080/"
        },
        "id": "KYMc4P_68ju3",
        "outputId": "57228e64-bcea-4cdb-a557-0679aee74fd7"
      },
      "outputs": [
        {
          "name": "stderr",
          "output_type": "stream",
          "text": [
            "<>:9: SyntaxWarning: invalid escape sequence '\\C'\n",
            "<>:9: SyntaxWarning: invalid escape sequence '\\C'\n",
            "C:\\Users\\Ruhma\\AppData\\Local\\Temp\\ipykernel_14184\\1625316873.py:9: SyntaxWarning: invalid escape sequence '\\C'\n",
            "  df = pd.read_csv(\"B:\\Code\\Python\\AI lab\\AI resume analyzer\\dataset\\Resume\\Cleaned_Resume_Data_final.csv\")\n"
          ]
        },
        {
          "name": "stdout",
          "output_type": "stream",
          "text": [
            "✅ Accuracy: 0.7022132796780685\n",
            "\n",
            "📊 Classification Report:\n",
            "                         precision    recall  f1-score   support\n",
            "\n",
            "            Accountant       0.61      0.92      0.73        24\n",
            "              Advocate       0.95      0.75      0.84        24\n",
            "           Agriculture       1.00      0.38      0.56        13\n",
            "               Apparel       0.83      0.26      0.40        19\n",
            "                  Arts       0.60      0.14      0.23        21\n",
            "            Automobile       1.00      0.14      0.25         7\n",
            "              Aviation       0.81      0.88      0.84        24\n",
            "               Banking       0.80      0.70      0.74        23\n",
            "                   Bpo       0.00      0.00      0.00         4\n",
            "  Business-Development       0.54      0.79      0.64        24\n",
            "                  Chef       0.83      0.79      0.81        24\n",
            "          Construction       0.88      0.95      0.91        22\n",
            "            Consultant       0.70      0.30      0.42        23\n",
            "              Designer       0.83      0.95      0.89        21\n",
            "         Digital-Media       0.83      0.53      0.65        19\n",
            "           Engineering       0.83      0.83      0.83        24\n",
            "               Finance       0.67      0.58      0.62        24\n",
            "               Fitness       0.78      0.78      0.78        23\n",
            "            Healthcare       0.64      0.70      0.67        23\n",
            "                    Hr       0.75      0.95      0.84        22\n",
            "Information-Technology       0.68      0.96      0.79        24\n",
            "      Public-Relations       0.55      0.77      0.64        22\n",
            "                 Sales       0.48      0.65      0.56        23\n",
            "               Teacher       0.53      0.90      0.67        20\n",
            "\n",
            "              accuracy                           0.70       497\n",
            "             macro avg       0.71      0.65      0.64       497\n",
            "          weighted avg       0.73      0.70      0.68       497\n",
            "\n"
          ]
        },
        {
          "name": "stderr",
          "output_type": "stream",
          "text": [
            "b:\\Code\\Python\\AI lab\\AI resume analyzer\\myenv\\Lib\\site-packages\\sklearn\\metrics\\_classification.py:1565: UndefinedMetricWarning: Precision is ill-defined and being set to 0.0 in labels with no predicted samples. Use `zero_division` parameter to control this behavior.\n",
            "  _warn_prf(average, modifier, f\"{metric.capitalize()} is\", len(result))\n",
            "b:\\Code\\Python\\AI lab\\AI resume analyzer\\myenv\\Lib\\site-packages\\sklearn\\metrics\\_classification.py:1565: UndefinedMetricWarning: Precision is ill-defined and being set to 0.0 in labels with no predicted samples. Use `zero_division` parameter to control this behavior.\n",
            "  _warn_prf(average, modifier, f\"{metric.capitalize()} is\", len(result))\n",
            "b:\\Code\\Python\\AI lab\\AI resume analyzer\\myenv\\Lib\\site-packages\\sklearn\\metrics\\_classification.py:1565: UndefinedMetricWarning: Precision is ill-defined and being set to 0.0 in labels with no predicted samples. Use `zero_division` parameter to control this behavior.\n",
            "  _warn_prf(average, modifier, f\"{metric.capitalize()} is\", len(result))\n"
          ]
        }
      ],
      "source": [
        "# Random Forest Model\n",
        "import pandas as pd\n",
        "from sklearn.model_selection import train_test_split\n",
        "from sklearn.feature_extraction.text import TfidfVectorizer\n",
        "from sklearn.ensemble import RandomForestClassifier\n",
        "from sklearn.metrics import accuracy_score, classification_report, confusion_matrix\n",
        "\n",
        "# Step 1: Load cleaned data\n",
        "df = pd.read_csv(\"D:\\AI resume analyzer\\dataset\\Resume\\Cleaned_Resume_Data_final.csv\")\n",
        "\n",
        "# Step 2: Split into features and target\n",
        "X = df['Cleaned_Resume']\n",
        "y = df['Category']\n",
        "\n",
        "# Step 3: Train-test split\n",
        "X_train, X_test, y_train, y_test = train_test_split(\n",
        "    X, y, test_size=0.2, random_state=42, stratify=y\n",
        ")\n",
        "\n",
        "# Step 4: Vectorize text using TF-IDF\n",
        "vectorizer = TfidfVectorizer(max_features=5000, stop_words='english')\n",
        "X_train_vec = vectorizer.fit_transform(X_train)\n",
        "X_test_vec = vectorizer.transform(X_test)\n",
        "\n",
        "# Step 5: Train Random Forest model\n",
        "rf_model = RandomForestClassifier(n_estimators=1000, random_state=42)\n",
        "rf_model.fit(X_train_vec, y_train)\n",
        "\n",
        "# Step 6: Predictions and Evaluation\n",
        "y_pred = rf_model.predict(X_test_vec)\n",
        "\n",
        "print(\"✅ Accuracy:\", accuracy_score(y_test, y_pred))\n",
        "print(\"\\n📊 Classification Report:\\n\", classification_report(y_test, y_pred))"
      ]
    },
    {
      "cell_type": "code",
      "execution_count": null,
      "metadata": {
        "colab": {
          "base_uri": "https://localhost:8080/"
        },
        "id": "rtAvYFCnHpXZ",
        "outputId": "6e436a11-37d4-4971-ff65-d2bec8fd2238"
      },
      "outputs": [
        {
          "name": "stdout",
          "output_type": "stream",
          "text": [
            "Requirement already satisfied: PyMuPDF in b:\\code\\python\\ai lab\\ai resume analyzer\\myenv\\lib\\site-packages (1.25.5)\n"
          ]
        },
        {
          "name": "stderr",
          "output_type": "stream",
          "text": [
            "\n",
            "[notice] A new release of pip is available: 24.2 -> 25.1.1\n",
            "[notice] To update, run: python.exe -m pip install --upgrade pip\n"
          ]
        }
      ],
      "source": [
        "%pip install PyMuPDF"
      ]
    },
    {
      "cell_type": "markdown",
      "metadata": {
        "id": "eoQFJOx9Hx0X"
      },
      "source": [
        "# Testing Model"
      ]
    },
    {
      "cell_type": "code",
      "execution_count": 3,
      "metadata": {
        "colab": {
          "base_uri": "https://localhost:8080/"
        },
        "id": "ou9X5aFIHjTb",
        "outputId": "bf0b6751-4650-4b5a-e2cd-c18604fbfdda"
      },
      "outputs": [
        {
          "name": "stderr",
          "output_type": "stream",
          "text": [
            "<>:10: SyntaxWarning: invalid escape sequence '\\A'\n",
            "<>:10: SyntaxWarning: invalid escape sequence '\\A'\n",
            "C:\\Users\\Ruhma\\AppData\\Local\\Temp\\ipykernel_10404\\2843400241.py:10: SyntaxWarning: invalid escape sequence '\\A'\n",
            "  df = pd.read_csv(\"D:\\AI resume analyzer\\dataset\\Resume\\Cleaned_Resume_Data_final.csv\")\n"
          ]
        },
        {
          "name": "stdout",
          "output_type": "stream",
          "text": [
            "📄 Predicted Category for PDF: Automobile\n"
          ]
        }
      ],
      "source": [
        "import pandas as pd\n",
        "from sklearn.model_selection import train_test_split\n",
        "from sklearn.feature_extraction.text import TfidfVectorizer\n",
        "from sklearn.ensemble import RandomForestClassifier\n",
        "from sklearn.metrics import accuracy_score, classification_report, confusion_matrix\n",
        "import re\n",
        "import fitz  # PyMuPDF\n",
        "\n",
        "# Step 1: Load cleaned data\n",
        "df = pd.read_csv(\"D:\\AI resume analyzer\\dataset\\Resume\\Cleaned_Resume_Data_final.csv\")\n",
        "\n",
        "# Step 2: Split into features and target\n",
        "X = df['Cleaned_Resume']\n",
        "y = df['Category']\n",
        "\n",
        "# Step 3: Train-test split\n",
        "X_train, X_test, y_train, y_test = train_test_split(\n",
        "    X, y, test_size=0.2, random_state=42, stratify=y\n",
        ")\n",
        "\n",
        "# Step 4: Vectorize text using TF-IDF\n",
        "vectorizer = TfidfVectorizer(max_features=5000, stop_words='english')\n",
        "X_train_vec = vectorizer.fit_transform(X_train)\n",
        "X_test_vec = vectorizer.transform(X_test)\n",
        "\n",
        "# Step 5: Train Random Forest model\n",
        "rf_model = RandomForestClassifier(n_estimators=1000, random_state=42)\n",
        "rf_model.fit(X_train_vec, y_train)\n",
        "\n",
        "# -------------------------------\n",
        "# 🧠 Predict category for a PDF resume\n",
        "# -------------------------------\n",
        "\n",
        "# Clean text function\n",
        "def clean_text(text):\n",
        "    text = re.sub(r'\\\\[ntr]', ' ', text)\n",
        "    text = re.sub(r'\\s+', ' ', text)\n",
        "    return text.strip()\n",
        "\n",
        "# Function to extract text from a PDF file\n",
        "def extract_text_from_pdf(pdf_path):\n",
        "    doc = fitz.open(pdf_path)\n",
        "    text = \"\"\n",
        "    for page in doc:\n",
        "        text += page.get_text()\n",
        "    return text\n",
        "\n",
        "# Main function to predict category of a resume PDF\n",
        "def predict_resume_category(pdf_path):\n",
        "    raw_text = extract_text_from_pdf(pdf_path)\n",
        "    cleaned = clean_text(raw_text)\n",
        "    vec = vectorizer.transform([cleaned])\n",
        "    pred = rf_model.predict(vec)\n",
        "    return pred[0]\n",
        "\n",
        "# 🧪 Example usage\n",
        "pdf_path = \"14508237.pdf\"  # Replace with your actual PDF file\n",
        "predicted_category = predict_resume_category(pdf_path)\n",
        "print(f\"📄 Predicted Category for PDF: {predicted_category}\")"
      ]
    },
    {
      "cell_type": "code",
      "execution_count": 4,
      "metadata": {},
      "outputs": [
        {
          "data": {
            "text/plain": [
              "['tfidf_vectorizer.pkl']"
            ]
          },
          "execution_count": 4,
          "metadata": {},
          "output_type": "execute_result"
        }
      ],
      "source": [
        "import joblib\n",
        "\n",
        "# Save the trained model and vectorizer\n",
        "joblib.dump(rf_model, 'resume_model.pkl')\n",
        "joblib.dump(vectorizer, 'tfidf_vectorizer.pkl')\n"
      ]
    }
  ],
  "metadata": {
    "colab": {
      "provenance": []
    },
    "kernelspec": {
      "display_name": "myenv",
      "language": "python",
      "name": "python3"
    },
    "language_info": {
      "codemirror_mode": {
        "name": "ipython",
        "version": 3
      },
      "file_extension": ".py",
      "mimetype": "text/x-python",
      "name": "python",
      "nbconvert_exporter": "python",
      "pygments_lexer": "ipython3",
      "version": "3.12.5"
    }
  },
  "nbformat": 4,
  "nbformat_minor": 0
}
